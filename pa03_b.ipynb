{
 "cells": [
  {
   "cell_type": "code",
   "execution_count": null,
   "metadata": {},
   "outputs": [],
   "source": [
    "# EE532L - Deep Learning for Healthcare - Programming Assignment 03\n",
    "# Authors: Jibitesh Saha, Sasidhar Alavala, Subrahmanyam Gorthi\n",
    "# Important: Please do not change/rename the existing function names and write your code only in the place where you are asked to do it.\n",
    "\n",
    "\n",
    "########################################################## Can be modified ##############################################################\n",
    "# You can import libraries as per your need\n",
    "from tensorflow import keras\n",
    "from keras.models import Sequential\n",
    "from keras.layers import Dense\n",
    "from keras.optimizers import SGD\n",
    "import numpy as np\n",
    "import matplotlib"
   ]
  },
  {
   "cell_type": "code",
   "execution_count": null,
   "metadata": {},
   "outputs": [],
   "source": [
    "X_train = np.load('data/train_images.npy')\n",
    "N1 = X_train.shape[0]\n",
    "X_train = X_train.reshape([N1,784])\n",
    "# X_train = X_train.T\n",
    "   \n",
    "X_val = np.load('data/val_images.npy')\n",
    "N2 = X_val.shape[0]\n",
    "X_val = X_val.reshape([N2,784])\n",
    "# X_val = X_val.T\n",
    "   \n",
    "X_test = np.load('data/test_images.npy')\n",
    "N3 = X_test.shape[0]\n",
    "X_test = X_test.reshape([N3,784])\n",
    "# X_test = X_test.T\n",
    "   \n",
    "y_train = np.squeeze(np.load('data/train_labels.npy'))\n",
    "   \n",
    "y_val = np.squeeze(np.load('data/val_labels.npy'))\n",
    "   \n",
    "y_test = np.squeeze(np.load('data/test_labels.npy'))\n",
    "\n",
    " # Normalize training features\n",
    "X_train = np.array(X_train)\n",
    "c = np.expand_dims(np.amax(X_train, axis=1),axis=1)\n",
    "X_train = X_train / c \n",
    "\n",
    "\n",
    " # Normalize validation features\n",
    "X_val = np.array(X_val)\n",
    "c = np.expand_dims(np.amax(X_val, axis=1),axis=1)\n",
    "X_val = X_val / c \n",
    "\n",
    "\n",
    " # Normalize testing features"
    "X_test = np.array(X_test)\n",
    "c = np.expand_dims(np.amax(X_test, axis=1),axis=1)\n",
    "X_test = X_test / c \n",
   ]
  },
  {
   "cell_type": "code",
   "execution_count": null,
   "metadata": {},
   "outputs": [],
   "source": [
    "model = Sequential()\n",
    "#input layer\n",
    "model.add(Dense(64, input_shape=(784,), activation=\"sigmoid\")) # replace 'a' with the number of hidden neurons\n",
    "# you want in first hidden layer\n",
    "model.add(Dense(64, activation=\"sigmoid\")) # replace 'b' with number of neurons you want in second hidden layer\n",
    "# copy paste the above line multiple times to add as much number of layers you want.\n",
    "\n",
    "# output layer\n",
    "model.add(Dense(1, activation=\"sigmoid\"))\n",
    "\n",
    "opt = SGD(lr=0.01) # replace 'c' with the learning rate you want\n",
    "model.compile(optimizer=opt, loss='binary_crossentropy', metrics=['accuracy'])\n",
    "\n",
    "\n",
    "# Training and Validation\n",
    "H = model.fit  (X_train, y_train, epochs=100, batch_size=1, validation_data = (X_val,y_val))\n",
    "# replace 'd' with the number of epochs you want to train the model\n",
    "\n",
    "# Testing\n",
    "model.evaluate(X_test,y_test, batch_size = 1)\n"
    "print("Test Loss:", test_loss)\n"
    "print("Test Accuracy:", test_acc)\n"
   ]
  }
 ],
 "metadata": {
  "kernelspec": {
   "display_name": "Python 3",
   "language": "python",
   "name": "python3"
  },
  "language_info": {
   "codemirror_mode": {
    "name": "ipython",
    "version": 3
   },
   "file_extension": ".py",
   "mimetype": "text/x-python",
   "name": "python",
   "nbconvert_exporter": "python",
   "pygments_lexer": "ipython3",
   "version": "3.10.12"
  }
 },
 "nbformat": 4,
 "nbformat_minor": 2
}
